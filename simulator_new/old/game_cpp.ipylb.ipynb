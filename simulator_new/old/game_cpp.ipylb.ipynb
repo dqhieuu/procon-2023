{
 "cells": [
  {
   "cell_type": "code",
   "execution_count": 1,
   "metadata": {},
   "outputs": [],
   "source": [
    "action_path = \"test-cases/match-249.txt\"\n",
    "map_path = \"test-cases/map-249-game-2.txt\""
   ]
  },
  {
   "cell_type": "code",
   "execution_count": 2,
   "id": "initial_id",
   "metadata": {
    "ExecuteTime": {
     "end_time": "2023-11-30T18:02:50.185111808Z",
     "start_time": "2023-11-30T18:02:50.181536470Z"
    },
    "collapsed": true
   },
   "outputs": [
    {
     "name": "stdout",
     "output_type": "stream",
     "text": [
      "261 72\n"
     ]
    }
   ],
   "source": [
    "from bin.game_interfaces_binding import Game, GameState, GameAction, GameOptions, ActionType, SubActionType, TileMask, Craftsman, MapState\n",
    "\n",
    "from utils_cpp import load_offline_game, load_offline_actions\n",
    "\n",
    "\n",
    "# GameOptions(), Map(), list[Craftsman]\n",
    "game_options, map, craftsmen, craftsman_strid_to_intid_map = load_offline_game(map_path)\n",
    "\n",
    "\n",
    "actions_by_turn = load_offline_actions(action_path, craftsman_strid_to_intid_map)\n",
    "\n",
    "game = Game(game_options, map, craftsmen)\n",
    "\n",
    "for actions in actions_by_turn:\n",
    "    for action in actions:\n",
    "        game.addAction(action)\n",
    "    game.nextTurn()\n",
    "\n",
    "go = game.gameOptions\n",
    "\n",
    "current_state = game.getCurrentState()\n",
    "\n",
    "print(current_state.map.calcPoints(go, True), current_state.map.calcPoints(go, False))"
   ]
  }
 ],
 "metadata": {
  "kernelspec": {
   "display_name": "Python 3",
   "language": "python",
   "name": "python3"
  },
  "language_info": {
   "codemirror_mode": {
    "name": "ipython",
    "version": 3
   },
   "file_extension": ".py",
   "mimetype": "text/x-python",
   "name": "python",
   "nbconvert_exporter": "python",
   "pygments_lexer": "ipython3",
   "version": "3.11.0"
  }
 },
 "nbformat": 4,
 "nbformat_minor": 5
}
