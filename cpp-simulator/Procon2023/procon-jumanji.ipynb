{
 "cells": [
  {
   "cell_type": "code",
   "execution_count": 2,
   "metadata": {},
   "outputs": [],
   "source": [
    "from abc import ABC\n",
    "from typing import Tuple\n",
    "\n",
    "import chex\n",
    "import jumanji\n",
    "from jumanji import specs\n",
    "from jumanji.env import State\n",
    "from jumanji.types import TimeStep"
   ]
  },
  {
   "cell_type": "code",
   "execution_count": 5,
   "metadata": {},
   "outputs": [],
   "source": [
    "from bin.game_interfaces_binding import *"
   ]
  },
  {
   "cell_type": "code",
   "execution_count": 1,
   "metadata": {
    "ExecuteTime": {
     "end_time": "2023-11-24T10:55:43.338539Z",
     "start_time": "2023-11-24T10:55:43.220493Z"
    }
   },
   "outputs": [
    {
     "ename": "NameError",
     "evalue": "name 'jumanji' is not defined",
     "output_type": "error",
     "traceback": [
      "\u001b[0;31m---------------------------------------------------------------------------\u001b[0m",
      "\u001b[0;31mNameError\u001b[0m                                 Traceback (most recent call last)",
      "Cell \u001b[0;32mIn[1], line 1\u001b[0m\n\u001b[0;32m----> 1\u001b[0m \u001b[38;5;28;01mclass\u001b[39;00m \u001b[38;5;21;01mProconJumanji\u001b[39;00m(\u001b[43mjumanji\u001b[49m\u001b[38;5;241m.\u001b[39mEnvironment):\n\u001b[1;32m      2\u001b[0m     \u001b[38;5;28;01mdef\u001b[39;00m \u001b[38;5;21mreset\u001b[39m(\u001b[38;5;28mself\u001b[39m, key: chex\u001b[38;5;241m.\u001b[39mPRNGKey) \u001b[38;5;241m-\u001b[39m\u001b[38;5;241m>\u001b[39m Tuple[State, TimeStep]:\n\u001b[1;32m      3\u001b[0m         \u001b[38;5;28;01mpass\u001b[39;00m\n",
      "\u001b[0;31mNameError\u001b[0m: name 'jumanji' is not defined"
     ]
    }
   ],
   "source": [
    "class ProconJumanji(jumanji.Environment):\n",
    "    def __init__(self, gameOptions: GameOptions, map, craftsmen):\n",
    "        self.maxTurns = gameOptions.maxTurns\n",
    "        self.mapWidth = gameOptions.mapWidth\n",
    "        self.mapHeight = gameOptions.mapHeight\n",
    "\n",
    "        self.wallCoeff = gameOptions.wallCoeff\n",
    "        self.castleCoeff = gameOptions.castleCoeff\n",
    "        self.territoryCoeff = gameOptions.territoryCoeff\n",
    "\n",
    "        self.map = map\n",
    "        self.craftsmen = craftsmen\n",
    "        self.game = Game(gameOptions, map, craftsmen)\n",
    "\n",
    "    def reset(self, key: chex.PRNGKey) -> Tuple[State, TimeStep]:\n",
    "        self.game.reset()\n",
    "        \n",
    "\n",
    "    def step(self, state: State, action: chex.Array) -> Tuple[State, TimeStep]:\n",
    "        self.game.step(action)\n",
    "\n",
    "    def observation_spec(self) -> specs.Spec:\n",
    "        return \n",
    "\n",
    "    def action_spec(self) -> specs.Spec:\n",
    "        pass\n",
    "\n",
    "\n",
    "    def render(self, state: State) -> Any:\n",
    "        \"\"\"Render frames of the environment for a given state.\n",
    "\n",
    "        Args:\n",
    "            state: State object containing the current dynamics of the environment.\n",
    "        \"\"\"\n",
    "        raise NotImplementedError(\"Render method not implemented for this environment.\")\n",
    "    \n",
    "\n",
    "    # def reward_spec(self) -> specs.Array:\n",
    "    #     \"\"\"Describes the reward returned by the environment. By default, this is assumed to be a\n",
    "    #     single float.\n",
    "\n",
    "    #     Returns:\n",
    "    #         reward_spec: a `specs.Array` spec.\n",
    "    #     \"\"\"\n",
    "    #     return specs.Array(shape=(), dtype=float, name=\"reward\")\n",
    "\n",
    "    # def discount_spec(self) -> specs.BoundedArray:\n",
    "    #     \"\"\"Describes the discount returned by the environment. By default, this is assumed to be a\n",
    "    #     single float between 0 and 1.\n",
    "\n",
    "    #     Returns:\n",
    "    #         discount_spec: a `specs.BoundedArray` spec.\n",
    "    #     \"\"\"\n",
    "    #     return specs.BoundedArray(\n",
    "    #         shape=(), dtype=float, minimum=0.0, maximum=1.0, name=\"discount\"\n",
    "    #     )\n",
    "\n",
    "\n",
    "\n"
   ]
  },
  {
   "cell_type": "code",
   "execution_count": null,
   "metadata": {
    "collapsed": false
   },
   "outputs": [],
   "source": []
  }
 ],
 "metadata": {
  "kernelspec": {
   "display_name": "procon-ai",
   "language": "python",
   "name": "python3"
  },
  "language_info": {
   "codemirror_mode": {
    "name": "ipython",
    "version": 3
   },
   "file_extension": ".py",
   "mimetype": "text/x-python",
   "name": "python",
   "nbconvert_exporter": "python",
   "pygments_lexer": "ipython3",
   "version": "3.9.0"
  }
 },
 "nbformat": 4,
 "nbformat_minor": 2
}
