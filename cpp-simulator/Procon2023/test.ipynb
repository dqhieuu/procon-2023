{
 "cells": [
  {
   "cell_type": "code",
   "execution_count": 1,
   "id": "initial_id",
   "metadata": {
    "ExecuteTime": {
     "end_time": "2023-11-14T07:25:09.203895600Z",
     "start_time": "2023-11-14T07:25:09.182581200Z"
    },
    "collapsed": true
   },
   "outputs": [],
   "source": [
    "from bin.game_interfaces_binding import *"
   ]
  },
  {
   "cell_type": "code",
   "execution_count": 2,
   "id": "8e4b5368034da27f",
   "metadata": {
    "ExecuteTime": {
     "end_time": "2023-11-14T07:25:10.501987700Z",
     "start_time": "2023-11-14T07:25:10.486982100Z"
    },
    "collapsed": false
   },
   "outputs": [
    {
     "name": "stdout",
     "output_type": "stream",
     "text": [
      "Help on class Game in module bin.game_interfaces_binding:\n",
      "\n",
      "class Game(pybind11_builtins.pybind11_object)\n",
      " |  Method resolution order:\n",
      " |      Game\n",
      " |      pybind11_builtins.pybind11_object\n",
      " |      builtins.object\n",
      " |  \n",
      " |  Methods defined here:\n",
      " |  \n",
      " |  __init__(...)\n",
      " |      __init__(self: bin.game_interfaces_binding.Game, arg0: bin.game_interfaces_binding.GameOptions, arg1: List[List[int]], arg2: List[bin.game_interfaces_binding.Craftsman]) -> None\n",
      " |  \n",
      " |  addAction(...)\n",
      " |      addAction(self: bin.game_interfaces_binding.Game, arg0: bin.game_interfaces_binding.GameAction) -> None\n",
      " |  \n",
      " |  getCurrentState(...)\n",
      " |      getCurrentState(self: bin.game_interfaces_binding.Game) -> bin.game_interfaces_binding.GameState\n",
      " |  \n",
      " |  nextTurn(...)\n",
      " |      nextTurn(self: bin.game_interfaces_binding.Game) -> None\n",
      " |  \n",
      " |  ----------------------------------------------------------------------\n",
      " |  Static methods inherited from pybind11_builtins.pybind11_object:\n",
      " |  \n",
      " |  __new__(*args, **kwargs) from pybind11_builtins.pybind11_type\n",
      " |      Create and return a new object.  See help(type) for accurate signature.\n",
      "\n"
     ]
    }
   ],
   "source": [
    "help(Game)"
   ]
  },
  {
   "cell_type": "code",
   "execution_count": 3,
   "id": "8283633a83a91de7",
   "metadata": {
    "collapsed": false
   },
   "outputs": [
    {
     "name": "stdout",
     "output_type": "stream",
     "text": [
      "{'game_map': [[1, 0, 0, 0, 0, 0, 0, 0, 0, 0, 0], [0, 0, 0, 0, 0, 0, 0, 0, 0, 0, 0], [0, 0, 0, 0, 1, 0, 0, 0, 0, 0, 0], [0, 0, 0, 0, 0, 0, 0, 0, 0, 0, 0], [0, 0, 0, 2, 2, 2, 0, 0, 0, 0, 0], [0, 0, 0, 0, 0, 0, 2, 2, 2, 0, 0], [0, 0, 0, 0, 0, 0, 0, 0, 0, 0, 0], [0, 0, 0, 0, 0, 0, 0, 0, 0, 0, 0], [0, 0, 0, 2, 0, 0, 0, 0, 0, 1, 0], [0, 0, 0, 0, 0, 0, 0, 0, 0, 0, 0], [0, 0, 0, 0, 1, 0, 0, 0, 0, 0, 0], [0, 0, 0, 0, 0, 0, 0, 0, 0, 0, 0], [0, 0, 0, 0, 0, 0, 0, 0, 0, 0, 0]], 'score_coefficients': {'territory': 5, 'wall': 2, 'castle': 30}, 'game_settings': {'max_turn': 100, 'map_width': 11, 'map_height': 13}, 'craftsmen': {'team1': [[2, 2], [0, 3], [5, 5]], 'team2': [[6, 5], [7, 7], [7, 5]]}}\n"
     ]
    }
   ],
   "source": [
    "from utils import load_map\n",
    "\n",
    "mapdata = load_map('map1.txt')\n",
    "print(mapdata)"
   ]
  },
  {
   "cell_type": "code",
   "execution_count": 4,
   "id": "6344b7cc96f9fff6",
   "metadata": {
    "ExecuteTime": {
     "end_time": "2023-11-14T08:27:15.333043300Z",
     "start_time": "2023-11-14T08:27:15.308955200Z"
    }
   },
   "outputs": [
    {
     "name": "stdout",
     "output_type": "stream",
     "text": [
      "[[2, 0, 0, 0, 0, 0, 0, 0, 0, 0, 0], [0, 0, 0, 0, 0, 0, 0, 0, 0, 0, 0], [0, 0, 0, 0, 2, 0, 0, 0, 0, 0, 0], [0, 0, 0, 0, 0, 0, 0, 0, 0, 0, 0], [0, 0, 0, 1, 1, 1, 0, 0, 0, 0, 0], [0, 0, 0, 0, 0, 0, 1, 1, 1, 0, 0], [0, 0, 0, 0, 0, 0, 0, 0, 0, 0, 0], [0, 0, 0, 0, 0, 0, 0, 0, 0, 0, 0], [0, 0, 0, 1, 0, 0, 0, 0, 0, 2, 0], [0, 0, 0, 0, 0, 0, 0, 0, 0, 0, 0], [0, 0, 0, 0, 2, 0, 0, 0, 0, 0, 0], [0, 0, 0, 0, 0, 0, 0, 0, 0, 0, 0], [0, 0, 0, 0, 0, 0, 0, 0, 0, 0, 0]]\n"
     ]
    }
   ],
   "source": [
    "def map_tile_to_bitmask(tile):\n",
    "    if tile == 1:\n",
    "        return 1 << TileMask.POND.value\n",
    "    elif tile == 2:\n",
    "        return 1 << TileMask.CASTLE.value\n",
    "    return 0\n",
    "\n",
    "map_formatted = [[map_tile_to_bitmask(x) for x in row] for row in mapdata['game_map']]\n",
    "print(map_formatted)"
   ]
  },
  {
   "cell_type": "code",
   "execution_count": 5,
   "metadata": {},
   "outputs": [
    {
     "data": {
      "text/plain": [
       "[<bin.game_interfaces_binding.Craftsman at 0x2823a8e2970>,\n",
       " <bin.game_interfaces_binding.Craftsman at 0x2823a8e1a30>,\n",
       " <bin.game_interfaces_binding.Craftsman at 0x2823a901530>,\n",
       " <bin.game_interfaces_binding.Craftsman at 0x2823a9016b0>,\n",
       " <bin.game_interfaces_binding.Craftsman at 0x2823a902430>,\n",
       " <bin.game_interfaces_binding.Craftsman at 0x2823a9015b0>]"
      ]
     },
     "execution_count": 5,
     "metadata": {},
     "output_type": "execute_result"
    }
   ],
   "source": [
    "counter = 0\n",
    "craftsmen_formatted = []\n",
    "for c in mapdata['craftsmen']['team1']:\n",
    "    new_craftsman = Craftsman(counter, c[0], c[1], True)\n",
    "    craftsmen_formatted.append(new_craftsman)\n",
    "    counter += 1\n",
    "for c in mapdata['craftsmen']['team2']:\n",
    "    new_craftsman = Craftsman(counter, c[0], c[1], False)\n",
    "    craftsmen_formatted.append(new_craftsman)\n",
    "    counter += 1\n",
    "\n",
    "craftsmen_formatted"
   ]
  },
  {
   "cell_type": "code",
   "execution_count": 8,
   "metadata": {},
   "outputs": [
    {
     "name": "stdout",
     "output_type": "stream",
     "text": [
      "<bin.game_interfaces_binding.GameOptions object at 0x000002823A914AF0>\n"
     ]
    }
   ],
   "source": [
    "go = GameOptions()\n",
    "go.mapWidth = mapdata['game_settings']['map_width']\n",
    "go.mapHeight = mapdata['game_settings']['map_height']\n",
    "go.maxTurns =  mapdata['game_settings']['max_turn']\n",
    "go.wallCoeff =  mapdata['score_coefficients']['wall']\n",
    "go.castleCoeff =   mapdata['score_coefficients']['castle']\n",
    "go.territoryCoeff =   mapdata['score_coefficients']['territory']\n",
    "print(go)\n",
    "\n",
    "game = Game(\n",
    "    go,\n",
    "    map_formatted,\n",
    "    craftsmen_formatted\n",
    ")"
   ]
  },
  {
   "cell_type": "code",
   "execution_count": null,
   "metadata": {},
   "outputs": [
    {
     "ename": "",
     "evalue": "",
     "output_type": "error",
     "traceback": [
      "\u001b[1;31mThe Kernel crashed while executing code in the the current cell or a previous cell. Please review the code in the cell(s) to identify a possible cause of the failure. Click <a href='https://aka.ms/vscodeJupyterKernelCrash'>here</a> for more info. View Jupyter <a href='command:jupyter.viewOutput'>log</a> for further details."
     ]
    }
   ],
   "source": [
    "game.addAction(GameAction(1, ActionType.MOVE, SubActionType.MOVE_UP))\n",
    "game.nextTurn()"
   ]
  },
  {
   "cell_type": "code",
   "execution_count": 7,
   "metadata": {},
   "outputs": [
    {
     "data": {
      "text/plain": [
       "<bin.game_interfaces_binding.GameState at 0x2823a8857b0>"
      ]
     },
     "execution_count": 7,
     "metadata": {},
     "output_type": "execute_result"
    }
   ],
   "source": [
    "game.getCurrentState()"
   ]
  }
 ],
 "metadata": {
  "kernelspec": {
   "display_name": "Python 3",
   "language": "python",
   "name": "python3"
  },
  "language_info": {
   "codemirror_mode": {
    "name": "ipython",
    "version": 3
   },
   "file_extension": ".py",
   "mimetype": "text/x-python",
   "name": "python",
   "nbconvert_exporter": "python",
   "pygments_lexer": "ipython3",
   "version": "3.11.4"
  }
 },
 "nbformat": 4,
 "nbformat_minor": 5
}
